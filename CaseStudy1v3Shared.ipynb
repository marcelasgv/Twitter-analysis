{
 "cells": [
  {
   "cell_type": "markdown",
   "metadata": {},
   "source": [
    "# Case Study 1 : Collecting Data from Twitter"
   ]
  },
  {
   "cell_type": "markdown",
   "metadata": {},
   "source": [
    "# Problem 1: Sampling Twitter Data with Streaming API about a Certain Topic"
   ]
  },
  {
   "cell_type": "markdown",
   "metadata": {},
   "source": [
    "* First, inserting Twitter API credentials"
   ]
  },
  {
   "cell_type": "code",
   "execution_count": 3,
   "metadata": {},
   "outputs": [],
   "source": [
    "import twitter\n",
    "import numpy as np\n",
    "import pandas as pd\n",
    "import matplotlib.pyplot as plt\n",
    "#---------------------------------------------\n",
    "# Define a Function to Login Twitter API\n",
    "def oauth_login():\n",
    "    # Go to http://dev.twitter.com/apps/new to create an app and get values\n",
    "    # for these credentials, which you'll need to provide in place of these\n",
    "    # empty string values that are defined as placeholders.\n",
    "    # See https://developer.twitter.com/en/docs/basics/authentication/overview/oauth\n",
    "    # for more information on Twitter's OAuth implementation.\n",
    "    \n",
    "    CONSUMER_KEY = ''\n",
    "    CONSUMER_SECRET =''\n",
    "    OAUTH_TOKEN = ''\n",
    "    OAUTH_TOKEN_SECRET = ''\n",
    "    \n",
    "    auth = twitter.oauth.OAuth(OAUTH_TOKEN, OAUTH_TOKEN_SECRET,\n",
    "                               CONSUMER_KEY, CONSUMER_SECRET)\n",
    "    \n",
    "    twitter_api = twitter.Twitter(auth=auth)\n",
    "    return twitter_api\n",
    "\n",
    "#----------------------------------------------\n",
    "# Your code starts here\n",
    "#   Please add comments or text cells in between to explain the general idea of each block of the code.\n",
    "#   Please feel free to add more cells below this cell if necessary\n",
    "\n",
    "twitter_api = oauth_login()"
   ]
  },
  {
   "cell_type": "markdown",
   "metadata": {},
   "source": [
    "* Select and include a case topic that you are interested in, for example, \"WPI\" or \"Lady Gaga\" or COVID-19.\n",
    "* Use Twitter Streaming API to sample a collection of tweets about this topic in real time. It would be recommended that the number of tweets should be larger than 1000, but smaller than 1 million.\n",
    "* Store the tweets you downloaded into a local file (txt file or json file) "
   ]
  },
  {
   "cell_type": "code",
   "execution_count": 4,
   "metadata": {},
   "outputs": [
    {
     "name": "stdout",
     "output_type": "stream",
     "text": [
      "Length of statuses 100\n",
      "Length of statuses 200\n",
      "Length of statuses 300\n",
      "Length of statuses 400\n",
      "Length of statuses 500\n",
      "{\n",
      " \"created_at\": \"Tue Feb 22 18:02:55 +0000 2022\",\n",
      " \"id\": 1496183737805066242,\n",
      " \"id_str\": \"1496183737805066242\",\n",
      " \"text\": \"RT @ewarren: This CEO bragged about their \\u201cpricing power.\\u201d Let me translate that from economist-speak: they can raise prices &amp; extract prof\\u2026\",\n",
      " \"truncated\": false,\n",
      " \"entities\": {\n",
      "  \"hashtags\": [],\n",
      "  \"symbols\": [],\n",
      "  \"user_mentions\": [\n",
      "   {\n",
      "    \"screen_name\": \"ewarren\",\n",
      "    \"name\": \"Elizabeth Warren\",\n",
      "    \"id\": 357606935,\n",
      "    \"id_str\": \"357606935\",\n",
      "    \"indices\": [\n",
      "     3,\n",
      "     11\n",
      "    ]\n",
      "   }\n",
      "  ],\n",
      "  \"urls\": []\n",
      " },\n",
      " \"metadata\": {\n",
      "  \"iso_language_code\": \"en\",\n",
      "  \"result_type\": \"recent\"\n",
      " },\n",
      " \"source\": \"<a href=\\\"http://twitter.com/download/iphone\\\" rel=\\\"nofollow\\\">Twitter for iPhone</a>\",\n",
      " \"in_reply_to_status_id\": null,\n",
      " \"in_reply_to_status_id_str\": null,\n",
      " \"in_reply_to_user_id\": null,\n",
      " \"in_reply_to_user_id_str\": null,\n",
      " \"in_reply_to_screen_name\": null,\n",
      " \"user\": {\n",
      "  \"id\": 720801881459531776,\n",
      "  \"id_str\": \"720801881459531776\",\n",
      "  \"name\": \"Ana R\",\n",
      "  \"screen_name\": \"ShawAndOrder\",\n",
      "  \"location\": \"\",\n",
      "  \"description\": \"\",\n",
      "  \"url\": null,\n",
      "  \"entities\": {\n",
      "   \"description\": {\n",
      "    \"urls\": []\n",
      "   }\n",
      "  },\n",
      "  \"protected\": false,\n",
      "  \"followers_count\": 192,\n",
      "  \"friends_count\": 60,\n",
      "  \"listed_count\": 0,\n",
      "  \"created_at\": \"Fri Apr 15 02:32:15 +0000 2016\",\n",
      "  \"favourites_count\": 37925,\n",
      "  \"utc_offset\": null,\n",
      "  \"time_zone\": null,\n",
      "  \"geo_enabled\": false,\n",
      "  \"verified\": false,\n",
      "  \"statuses_count\": 29261,\n",
      "  \"lang\": null,\n",
      "  \"contributors_enabled\": false,\n",
      "  \"is_translator\": false,\n",
      "  \"is_translation_enabled\": false,\n",
      "  \"profile_background_color\": \"F5F8FA\",\n",
      "  \"profile_background_image_url\": null,\n",
      "  \"profile_background_image_url_https\": null,\n",
      "  \"profile_background_tile\": false,\n",
      "  \"profile_image_url\": \"http://pbs.twimg.com/profile_images/1051695150336856065/cHSD9Hf0_normal.jpg\",\n",
      "  \"profile_image_url_https\": \"https://pbs.twimg.com/profile_images/1051695150336856065/cHSD9Hf0_normal.jpg\",\n",
      "  \"profile_banner_url\": \"https://pbs.twimg.com/profile_banners/720801881459531776/1590864026\",\n",
      "  \"profile_link_color\": \"1DA1F2\",\n",
      "  \"profile_sidebar_border_color\": \"C0DEED\",\n",
      "  \"profile_sidebar_fill_color\": \"DDEEF6\",\n",
      "  \"profile_text_color\": \"333333\",\n",
      "  \"profile_use_background_image\": true,\n",
      "  \"has_extended_profile\": false,\n",
      "  \"default_profile\": true,\n",
      "  \"default_profile_image\": false,\n",
      "  \"following\": false,\n",
      "  \"follow_request_sent\": false,\n",
      "  \"notifications\": false,\n",
      "  \"translator_type\": \"none\",\n",
      "  \"withheld_in_countries\": []\n",
      " },\n",
      " \"geo\": null,\n",
      " \"coordinates\": null,\n",
      " \"place\": null,\n",
      " \"contributors\": null,\n",
      " \"retweeted_status\": {\n",
      "  \"created_at\": \"Tue Feb 22 16:25:14 +0000 2022\",\n",
      "  \"id\": 1496159155857641478,\n",
      "  \"id_str\": \"1496159155857641478\",\n",
      "  \"text\": \"This CEO bragged about their \\u201cpricing power.\\u201d Let me translate that from economist-speak: they can raise prices &amp; e\\u2026 https://t.co/nRiiH1ezYZ\",\n",
      "  \"truncated\": true,\n",
      "  \"entities\": {\n",
      "   \"hashtags\": [],\n",
      "   \"symbols\": [],\n",
      "   \"user_mentions\": [],\n",
      "   \"urls\": [\n",
      "    {\n",
      "     \"url\": \"https://t.co/nRiiH1ezYZ\",\n",
      "     \"expanded_url\": \"https://twitter.com/i/web/status/1496159155857641478\",\n",
      "     \"display_url\": \"twitter.com/i/web/status/1\\u2026\",\n",
      "     \"indices\": [\n",
      "      121,\n",
      "      144\n",
      "     ]\n",
      "    }\n",
      "   ]\n",
      "  },\n",
      "  \"metadata\": {\n",
      "   \"iso_language_code\": \"en\",\n",
      "   \"result_type\": \"recent\"\n",
      "  },\n",
      "  \"source\": \"<a href=\\\"https://mobile.twitter.com\\\" rel=\\\"nofollow\\\">Twitter Web App</a>\",\n",
      "  \"in_reply_to_status_id\": null,\n",
      "  \"in_reply_to_status_id_str\": null,\n",
      "  \"in_reply_to_user_id\": null,\n",
      "  \"in_reply_to_user_id_str\": null,\n",
      "  \"in_reply_to_screen_name\": null,\n",
      "  \"user\": {\n",
      "   \"id\": 357606935,\n",
      "   \"id_str\": \"357606935\",\n",
      "   \"name\": \"Elizabeth Warren\",\n",
      "   \"screen_name\": \"ewarren\",\n",
      "   \"location\": \"Massachusetts\",\n",
      "   \"description\": \"U.S. Senator, former teacher. Wife, mom (Amelia, Alex, Bailey, @CFPB), grandmother, and Okie. She/her. Official campaign account.\",\n",
      "   \"url\": \"https://t.co/6eyJ7rAXpg\",\n",
      "   \"entities\": {\n",
      "    \"url\": {\n",
      "     \"urls\": [\n",
      "      {\n",
      "       \"url\": \"https://t.co/6eyJ7rAXpg\",\n",
      "       \"expanded_url\": \"https://elizabethwarren.com/\",\n",
      "       \"display_url\": \"elizabethwarren.com\",\n",
      "       \"indices\": [\n",
      "        0,\n",
      "        23\n",
      "       ]\n",
      "      }\n",
      "     ]\n",
      "    },\n",
      "    \"description\": {\n",
      "     \"urls\": []\n",
      "    }\n",
      "   },\n",
      "   \"protected\": false,\n",
      "   \"followers_count\": 5877531,\n",
      "   \"friends_count\": 563,\n",
      "   \"listed_count\": 18139,\n",
      "   \"created_at\": \"Thu Aug 18 16:43:48 +0000 2011\",\n",
      "   \"favourites_count\": 241,\n",
      "   \"utc_offset\": null,\n",
      "   \"time_zone\": null,\n",
      "   \"geo_enabled\": true,\n",
      "   \"verified\": true,\n",
      "   \"statuses_count\": 12173,\n",
      "   \"lang\": null,\n",
      "   \"contributors_enabled\": false,\n",
      "   \"is_translator\": false,\n",
      "   \"is_translation_enabled\": false,\n",
      "   \"profile_background_color\": \"FFFFFF\",\n",
      "   \"profile_background_image_url\": \"http://abs.twimg.com/images/themes/theme1/bg.png\",\n",
      "   \"profile_background_image_url_https\": \"https://abs.twimg.com/images/themes/theme1/bg.png\",\n",
      "   \"profile_background_tile\": false,\n",
      "   \"profile_image_url\": \"http://pbs.twimg.com/profile_images/1296929570231390209/hNsDkcQg_normal.jpg\",\n",
      "   \"profile_image_url_https\": \"https://pbs.twimg.com/profile_images/1296929570231390209/hNsDkcQg_normal.jpg\",\n",
      "   \"profile_banner_url\": \"https://pbs.twimg.com/profile_banners/357606935/1578610497\",\n",
      "   \"profile_link_color\": \"232444\",\n",
      "   \"profile_sidebar_border_color\": \"C0DEED\",\n",
      "   \"profile_sidebar_fill_color\": \"7DA6D9\",\n",
      "   \"profile_text_color\": \"333333\",\n",
      "   \"profile_use_background_image\": false,\n",
      "   \"has_extended_profile\": false,\n",
      "   \"default_profile\": false,\n",
      "   \"default_profile_image\": false,\n",
      "   \"following\": false,\n",
      "   \"follow_request_sent\": false,\n",
      "   \"notifications\": false,\n",
      "   \"translator_type\": \"none\",\n",
      "   \"withheld_in_countries\": []\n",
      "  },\n",
      "  \"geo\": null,\n",
      "  \"coordinates\": null,\n",
      "  \"place\": null,\n",
      "  \"contributors\": null,\n",
      "  \"is_quote_status\": false,\n",
      "  \"retweet_count\": 394,\n",
      "  \"favorite_count\": 1332,\n",
      "  \"favorited\": false,\n",
      "  \"retweeted\": false,\n",
      "  \"possibly_sensitive\": false,\n",
      "  \"lang\": \"en\"\n",
      " },\n",
      " \"is_quote_status\": false,\n",
      " \"retweet_count\": 394,\n",
      " \"favorite_count\": 0,\n",
      " \"favorited\": false,\n",
      " \"retweeted\": false,\n",
      " \"lang\": \"en\"\n",
      "}\n"
     ]
    }
   ],
   "source": [
    "import json\n",
    "\n",
    "q = 'CNBC' \n",
    "\n",
    "count = 100  #should be between 1,000 and 1,000,000\n",
    "\n",
    "# Import unquote to prevent url encoding errors in next_results\n",
    "from urllib.parse import unquote\n",
    "\n",
    "# See https://dev.twitter.com/rest/reference/get/search/tweets\n",
    "\n",
    "search_results = twitter_api.search.tweets(q=q, count=count)\n",
    "\n",
    "statuses = search_results['statuses']\n",
    "\n",
    "\n",
    "# Iterate through 5 more batches of results by following the cursor\n",
    "for _ in range(5):\n",
    "    print('Length of statuses', len(statuses))\n",
    "    try:\n",
    "        next_results = search_results['search_metadata']['next_results']\n",
    "    except KeyError as e: # No more results when next_results doesn't exist\n",
    "        break\n",
    "        \n",
    "    # Create a dictionary from next_results, which has the following form:\n",
    "    # ?max_id=847960489447628799&q=%23RIPSelena&count=100&include_entities=1\n",
    "    kwargs = dict([ kv.split('=') for kv in unquote(next_results[1:]).split(\"&\") ])\n",
    "    \n",
    "    search_results = twitter_api.search.tweets(**kwargs)\n",
    "    statuses += search_results['statuses']\n",
    "\n",
    "#Printing all the information stored in a single tweet entry\n",
    "print(json.dumps(statuses[0], indent=1))"
   ]
  },
  {
   "cell_type": "code",
   "execution_count": 5,
   "metadata": {},
   "outputs": [],
   "source": [
    "#Save tweets to json file\n",
    "import io, json\n",
    "\n",
    "filename = 'TweetsCNBC'\n",
    "\n",
    "with open('{0}.json'.format(filename),\n",
    "              'w', encoding='utf-8') as f:\n",
    "    json.dump(statuses, f, ensure_ascii=False)\n"
   ]
  },
  {
   "cell_type": "code",
   "execution_count": 6,
   "metadata": {},
   "outputs": [
    {
     "name": "stdout",
     "output_type": "stream",
     "text": [
      "\n",
      "RT @ewarren: This CEO bragged about their “pricing power.” Let me translate that from economist-speak: they can raise prices &amp; extract prof…\n",
      "\n",
      "RT @DogelonMars: Soon. https://t.co/Juyhh6dDJO\n",
      "\n",
      "RT @candies2639: Germany halts certification of Nord Stream 2 amid Russia-Ukraine crisis https://t.co/MLCvibqp2b\n",
      "\n",
      "RT @FirzaHusainID: Transformasi BUMN mulai menunjukkan hasil, laba yg bisa menjadi pemasukan deviden negara sentuh 90 Trilyun, bayangkan da…\n",
      "\n",
      "Will Putin's troops stop in eastern Ukraine? The world waits for Russia's next move https://t.co/sKtkGdsHYi\n"
     ]
    }
   ],
   "source": [
    "#Printing the first 5 tweets (just the text) just to see what the data looks like\n",
    "for i in range(5):\n",
    "    print()\n",
    "    print(statuses[i]['text'])"
   ]
  },
  {
   "cell_type": "markdown",
   "metadata": {},
   "source": [
    "# Problem 2: Analyzing Tweets and Tweet Entities with Frequency Analysis\n",
    "\n",
    "**1. Word Count:** \n",
    "* Use the tweets you collected in Problem 1, and compute the frequencies of the words being used in these tweets. \n",
    "* Plot a table of the top 30 words with their counts"
   ]
  },
  {
   "cell_type": "code",
   "execution_count": 7,
   "metadata": {},
   "outputs": [
    {
     "name": "stdout",
     "output_type": "stream",
     "text": [
      "[('RT', 270), ('the', 190), ('to', 131), ('@CNBC', 109), ('and', 100), ('of', 92), ('in', 82), ('&amp;', 81), ('that', 76), ('a', 76), ('are', 76), ('can', 71), ('CEO', 70), ('from', 64), ('on', 64), ('they', 62), ('prices', 60), ('is', 60), ('about', 59), ('This', 56), ('@CNBC:', 56), ('for', 53), ('their', 52), ('me', 51), ('Let', 50), ('raise', 50), ('@ewarren:', 49), ('bragged', 49), ('“pricing', 49), ('power.”', 49)]\n"
     ]
    }
   ],
   "source": [
    "#Creating list with all 'text' attributes from tweets stored in 'statuses' variable\n",
    "status_texts = [ status['text'] \n",
    "                 for status in statuses ]\n",
    "\n",
    "#Creating list of words from all texts stored in 'status_texts', split into words\n",
    "words = [ w \n",
    "          for t in status_texts \n",
    "              for w in t.split() ]\n",
    "\n",
    "#Creating pairs from words and their frequencies\n",
    "from collections import Counter\n",
    "c = Counter(words)\n",
    "\n",
    "#Printing the 30 most common\n",
    "print(c.most_common()[:30]) # top 30 words"
   ]
  },
  {
   "cell_type": "code",
   "execution_count": 8,
   "metadata": {},
   "outputs": [
    {
     "name": "stdout",
     "output_type": "stream",
     "text": [
      "+-------+-------+\n",
      "| Word  | Count |\n",
      "+-------+-------+\n",
      "| RT    |   270 |\n",
      "| the   |   190 |\n",
      "| to    |   131 |\n",
      "| @CNBC |   109 |\n",
      "| and   |   100 |\n",
      "| of    |    92 |\n",
      "| in    |    82 |\n",
      "| &amp; |    81 |\n",
      "| that  |    76 |\n",
      "| a     |    76 |\n",
      "+-------+-------+\n"
     ]
    }
   ],
   "source": [
    "#Plot it in table format\n",
    "\n",
    "from prettytable import PrettyTable\n",
    "\n",
    "pt = PrettyTable(field_names=['Word', 'Count']) \n",
    "c = Counter(words)\n",
    "[ pt.add_row(kv) for kv in c.most_common()[:10] ]\n",
    "pt.align['Word'], pt.align['Count'] = 'l', 'r' # Set column alignment\n",
    "print(pt)"
   ]
  },
  {
   "cell_type": "markdown",
   "metadata": {},
   "source": [
    "**2. Find the most popular tweets in your collection of tweets**\n",
    "\n",
    "Please plot a table of the top 10 tweets that are the most popular among your collection, i.e., the tweets with the largest number of retweet counts.\n"
   ]
  },
  {
   "cell_type": "code",
   "execution_count": 9,
   "metadata": {},
   "outputs": [
    {
     "name": "stdout",
     "output_type": "stream",
     "text": [
      "+---------------+-------------+---------------------+------------------------------------------------+\n",
      "| Retweet Count | Screen Name | Tweet ID            | Text                                           |\n",
      "+---------------+-------------+---------------------+------------------------------------------------+\n",
      "| 17560         | DogelonMars | 1453521233845407746 | RT @DogelonMars: Soon. https://t.co/Juyhh6dDJO |\n",
      "| 17560         | DogelonMars | 1453521233845407746 | RT @DogelonMars: Soon. https://t.co/Juyhh6dDJO |\n",
      "| 17560         | DogelonMars | 1453521233845407746 | RT @DogelonMars: Soon. https://t.co/Juyhh6dDJO |\n",
      "| 17560         | DogelonMars | 1453521233845407746 | RT @DogelonMars: Soon. https://t.co/Juyhh6dDJO |\n",
      "| 17560         | DogelonMars | 1453521233845407746 | RT @DogelonMars: Soon. https://t.co/Juyhh6dDJO |\n",
      "| 17560         | DogelonMars | 1453521233845407746 | RT @DogelonMars: Soon. https://t.co/Juyhh6dDJO |\n",
      "| 17560         | DogelonMars | 1453521233845407746 | RT @DogelonMars: Soon. https://t.co/Juyhh6dDJO |\n",
      "| 17560         | DogelonMars | 1453521233845407746 | RT @DogelonMars: Soon. https://t.co/Juyhh6dDJO |\n",
      "| 17560         | DogelonMars | 1453521233845407746 | RT @DogelonMars: Soon. https://t.co/Juyhh6dDJO |\n",
      "| 17560         | DogelonMars | 1453521233845407746 | RT @DogelonMars: Soon. https://t.co/Juyhh6dDJO |\n",
      "+---------------+-------------+---------------------+------------------------------------------------+\n"
     ]
    }
   ],
   "source": [
    "#----------------------------------------------\n",
    "# Your code starts here\n",
    "#   Please add comments or text cells in between to explain the general idea of each block of the code.\n",
    "#   Please feel free to add more cells below this cell if necessary\n",
    "\n",
    "'''\n",
    "For each tweet in 'statuses' variable, if one of the keys is 'retweeted status', \n",
    "then get and store as tuple \n",
    "'''\n",
    "\n",
    "retweets = [\n",
    "            # Store out a tuple of these three values ...\n",
    "            (status['retweet_count'], \n",
    "             status['retweeted_status']['user']['screen_name'],\n",
    "             status['retweeted_status']['id'],\n",
    "             status['text']) \n",
    "            \n",
    "            # ... for each status ...\n",
    "            for status in statuses \n",
    "            \n",
    "            # ... so long as the status meets this condition.\n",
    "                if 'retweeted_status' in status.keys()\n",
    "           ]\n",
    "\n",
    "# Displays first 10 tweets from the sorted results and display on table\n",
    "\n",
    "pt = PrettyTable(field_names=['Retweet Count', 'Screen Name', 'Tweet ID', 'Text'])\n",
    "[ pt.add_row(row) for row in sorted(retweets, reverse=True)[:10] ]\n",
    "pt.max_width['Text'] = 50\n",
    "pt.align= 'l'\n",
    "print(pt)\n"
   ]
  },
  {
   "cell_type": "markdown",
   "metadata": {},
   "source": [
    "**3. Find the most popular Tweet Entities in your collection of tweets**\n",
    "\n",
    "Please plot a table of the top 10 hashtags and top 10 user mentions that are the most popular in your collection of tweets."
   ]
  },
  {
   "cell_type": "code",
   "execution_count": 10,
   "metadata": {},
   "outputs": [
    {
     "name": "stdout",
     "output_type": "stream",
     "text": [
      "+------------------+-------+\n",
      "| Hashtag          | Count |\n",
      "+------------------+-------+\n",
      "| Metaverse        |    19 |\n",
      "| Airdrop          |    14 |\n",
      "| FoxNews          |    10 |\n",
      "| investinyou      |    10 |\n",
      "| Crypto           |     9 |\n",
      "| TrumpCrimeFamily |     7 |\n",
      "| Markets          |     7 |\n",
      "| Economy          |     7 |\n",
      "| BBCNews          |     6 |\n",
      "| antitrust        |     6 |\n",
      "+------------------+-------+\n",
      "+-----------------+-------+\n",
      "| Mentioned User  | Count |\n",
      "+-----------------+-------+\n",
      "| CNBC            |   172 |\n",
      "| CNBCMakeIt      |    54 |\n",
      "| ewarren         |    49 |\n",
      "| C_S_Skeptic     |    29 |\n",
      "| StarshipFairing |    27 |\n",
      "| Daanos_iii      |    27 |\n",
      "| JordanPeterj    |    26 |\n",
      "| _rykllan        |    24 |\n",
      "| in_rorschach    |    21 |\n",
      "| OrignalVentures |    16 |\n",
      "+-----------------+-------+\n"
     ]
    }
   ],
   "source": [
    "#----------------------------------------------\n",
    "# Your code starts here\n",
    "#   Please add comments or text cells in between to explain the general idea of each block of the code.\n",
    "#   Please feel free to add more cells below this cell if necessary\n",
    "\n",
    "#Creating list with all 'hashtags' from 'entities' attributes of tweets stored in 'statuses' variable\n",
    "hashtags = [ hashtag['text'] \n",
    "             for status in statuses\n",
    "                 for hashtag in status['entities']['hashtags'] ]\n",
    "\n",
    "#User mentions\n",
    "screen_names = [ user_mention['screen_name'] \n",
    "                 for status in statuses\n",
    "                     for user_mention in status['entities']['user_mentions'] ]\n",
    "\n",
    "for label, data in (('Hashtag', hashtags),\n",
    "                    ('Mentioned User', screen_names)):\n",
    "    pt = PrettyTable(field_names=[label, 'Count']) \n",
    "    c = Counter(data)\n",
    "    [ pt.add_row(kv) for kv in c.most_common()[:10] ]\n",
    "    pt.align[label], pt.align['Count'] = 'l', 'r' # Set column alignment\n",
    "    print(pt)"
   ]
  },
  {
   "cell_type": "markdown",
   "metadata": {},
   "source": [
    "# Problem 3: Getting \"All\" Friends and \"All\" Followers of a Popular User in Twitter"
   ]
  },
  {
   "cell_type": "markdown",
   "metadata": {},
   "source": [
    "* Choose a popular twitter user who has many followers in the collected tweets of your case topic.\n",
    "* Get the list of all friends and all followers of the twitter user.\n",
    "* Plot 20 out of the followers, plot their ID numbers, and their screen names in a table.\n",
    "* Plot 20 out of the friends (if the user has more than 20 friends), plot their ID numbers, and their screen names in a table."
   ]
  },
  {
   "cell_type": "code",
   "execution_count": 11,
   "metadata": {},
   "outputs": [],
   "source": [
    "#----------------------------------------------\n",
    "# Your code starts here\n",
    "#   Please add comments or text cells in between to explain the general idea of each block of the code.\n",
    "#   Please feel free to add more cells below this cell if necessary\n",
    "\n"
   ]
  },
  {
   "cell_type": "code",
   "execution_count": null,
   "metadata": {},
   "outputs": [],
   "source": []
  },
  {
   "cell_type": "markdown",
   "metadata": {},
   "source": [
    "* Compute the mutual friends within the two groups, i.e., the users who are in both friend list and follower list, plot their ID numbers and screen names in a table"
   ]
  },
  {
   "cell_type": "code",
   "execution_count": 12,
   "metadata": {},
   "outputs": [],
   "source": [
    "#----------------------------------------------\n",
    "# Your code starts here\n",
    "#   Please add comments or text cells in between to explain the general idea of each block of the code.\n",
    "#   Please feel free to add more cells below this cell if necessary\n",
    "\n",
    "\n",
    "\n",
    "\n",
    "\n",
    "\n"
   ]
  },
  {
   "cell_type": "markdown",
   "metadata": {},
   "source": [
    "# Problem 4: Domain Question \n",
    "\n",
    "Run some additional experiments with your data to gain familiarity with the twitter data and twitter API.\n",
    "\n",
    "* Come up with a question, which Twitter data could help answer from your collected tweets, based upon your case topic of your chosen public organization, private company, social community, etc., in a domain.\n",
    "* How could Twitter data help that company/organization/community spend its resources to answer the above question?"
   ]
  },
  {
   "cell_type": "code",
   "execution_count": 150,
   "metadata": {},
   "outputs": [],
   "source": [
    "#Getting data posted by user @CNBC\n",
    "import sys\n",
    "import time\n",
    "from urllib.error import URLError\n",
    "from http.client import BadStatusLine\n",
    "\n",
    "def make_twitter_request(twitter_api_func, max_errors=10, *args, **kw): \n",
    "    \n",
    "    # A nested helper function that handles common HTTPErrors. Return an updated\n",
    "    # value for wait_period if the problem is a 500 level error. Block until the\n",
    "    # rate limit is reset if it's a rate limiting issue (429 error). Returns None\n",
    "    # for 401 and 404 errors, which requires special handling by the caller.\n",
    "    def handle_twitter_http_error(e, wait_period=2, sleep_when_rate_limited=True):\n",
    "    \n",
    "        if wait_period > 3600: # Seconds\n",
    "            print('Too many retries. Quitting.', file=sys.stderr)\n",
    "            raise e\n",
    "    \n",
    "        # See https://developer.twitter.com/en/docs/basics/response-codes\n",
    "        # for common codes\n",
    "    \n",
    "        if e.e.code == 401:\n",
    "            print('Encountered 401 Error (Not Authorized)', file=sys.stderr)\n",
    "            return None\n",
    "        elif e.e.code == 404:\n",
    "            print('Encountered 404 Error (Not Found)', file=sys.stderr)\n",
    "            return None\n",
    "        elif e.e.code == 429: \n",
    "            print('Encountered 429 Error (Rate Limit Exceeded)', file=sys.stderr)\n",
    "            if sleep_when_rate_limited:\n",
    "                print(\"Retrying in 15 minutes...ZzZ...\", file=sys.stderr)\n",
    "                sys.stderr.flush()\n",
    "                time.sleep(60*15 + 5)\n",
    "                print('...ZzZ...Awake now and trying again.', file=sys.stderr)\n",
    "                return 2\n",
    "            else:\n",
    "                raise e # Caller must handle the rate limiting issue\n",
    "        elif e.e.code in (500, 502, 503, 504):\n",
    "            print('Encountered {0} Error. Retrying in {1} seconds'\\\n",
    "                  .format(e.e.code, wait_period), file=sys.stderr)\n",
    "            time.sleep(wait_period)\n",
    "            wait_period *= 1.5\n",
    "            return wait_period\n",
    "        else:\n",
    "            raise e\n",
    "\n",
    "    # End of nested helper function\n",
    "    \n",
    "    wait_period = 2 \n",
    "    error_count = 0 \n",
    "\n",
    "    while True:\n",
    "        try:\n",
    "            return twitter_api_func(*args, **kw)\n",
    "        except twitter.api.TwitterHTTPError as e:\n",
    "            error_count = 0 \n",
    "            wait_period = handle_twitter_http_error(e, wait_period)\n",
    "            if wait_period is None:\n",
    "                return\n",
    "        except URLError as e:\n",
    "            error_count += 1\n",
    "            time.sleep(wait_period)\n",
    "            wait_period *= 1.5\n",
    "            print(\"URLError encountered. Continuing.\", file=sys.stderr)\n",
    "            if error_count > max_errors:\n",
    "                print(\"Too many consecutive errors...bailing out.\", file=sys.stderr)\n",
    "                raise\n",
    "        except BadStatusLine as e:\n",
    "            error_count += 1\n",
    "            time.sleep(wait_period)\n",
    "            wait_period *= 1.5\n",
    "            print(\"BadStatusLine encountered. Continuing.\", file=sys.stderr)\n",
    "            if error_count > max_errors:\n",
    "                print(\"Too many consecutive errors...bailing out.\", file=sys.stderr)\n",
    "                raise\n",
    "\n",
    "\n",
    "\n",
    "def harvest_user_timeline(twitter_api, screen_name=None, user_id=None, max_results=1000):\n",
    "     \n",
    "    assert (screen_name != None) != (user_id != None), \\\n",
    "    \"Must have screen_name or user_id, but not both\"    \n",
    "    \n",
    "    kw = {  # Keyword args for the Twitter API call\n",
    "        'count': 200,\n",
    "        'trim_user': 'true',\n",
    "        'include_rts' : 'true',\n",
    "        'since_id' : 1\n",
    "        }\n",
    "    \n",
    "    if screen_name:\n",
    "        kw['screen_name'] = screen_name\n",
    "    else:\n",
    "        kw['user_id'] = user_id\n",
    "        \n",
    "    max_pages = 16\n",
    "    results = []\n",
    "    \n",
    "    tweets = make_twitter_request(twitter_api.statuses.user_timeline, **kw)\n",
    "    \n",
    "    if tweets is None: # 401 (Not Authorized) - Need to bail out on loop entry\n",
    "        tweets = []\n",
    "        \n",
    "    results += tweets\n",
    "    \n",
    "    print('Fetched {0} tweets'.format(len(tweets)), file=sys.stderr)\n",
    "    \n",
    "    page_num = 1\n",
    "    \n",
    "    # Many Twitter accounts have fewer than 200 tweets so you don't want to enter\n",
    "    # the loop and waste a precious request if max_results = 200.\n",
    "    \n",
    "    # Note: Analogous optimizations could be applied inside the loop to try and \n",
    "    # save requests. e.g. Don't make a third request if you have 287 tweets out of \n",
    "    # a possible 400 tweets after your second request. Twitter does do some \n",
    "    # post-filtering on censored and deleted tweets out of batches of 'count', though,\n",
    "    # so you can't strictly check for the number of results being 200. You might get\n",
    "    # back 198, for example, and still have many more tweets to go. If you have the\n",
    "    # total number of tweets for an account (by GET /users/lookup/), then you could \n",
    "    # simply use this value as a guide.\n",
    "    \n",
    "    if max_results == kw['count']:\n",
    "        page_num = max_pages # Prevent loop entry\n",
    "    \n",
    "    while page_num < max_pages and len(tweets) > 0 and len(results) < max_results:\n",
    "    \n",
    "        # Necessary for traversing the timeline in Twitter's v1.1 API:\n",
    "        # get the next query's max-id parameter to pass in.\n",
    "        # See https://dev.twitter.com/docs/working-with-timelines.\n",
    "        kw['max_id'] = min([ tweet['id'] for tweet in tweets]) - 1 \n",
    "    \n",
    "        tweets = make_twitter_request(twitter_api.statuses.user_timeline, **kw)\n",
    "        results += tweets\n",
    "\n",
    "        print('Fetched {0} tweets'.format(len(tweets)),file=sys.stderr)\n",
    "    \n",
    "        page_num += 1\n",
    "        \n",
    "    print('Done fetching tweets', file=sys.stderr)\n",
    "\n",
    "    return results"
   ]
  },
  {
   "cell_type": "code",
   "execution_count": 151,
   "metadata": {},
   "outputs": [
    {
     "name": "stderr",
     "output_type": "stream",
     "text": [
      "Fetched 200 tweets\n",
      "Done fetching tweets\n"
     ]
    }
   ],
   "source": [
    "tweets = harvest_user_timeline(twitter_api, screen_name=\"CNBC\", max_results=100)"
   ]
  },
  {
   "cell_type": "code",
   "execution_count": 152,
   "metadata": {},
   "outputs": [
    {
     "data": {
      "text/plain": [
       "['Harvard psychologist to parents: Do these 7 things if you want to raise kids with flexible, resilient brains. (via… https://t.co/TgqDItloku',\n",
       " 'RT @Grow_mag: Here are ways to turn down the volume and the stress when it comes to market turbulence. https://t.co/HSUk2aS0FK',\n",
       " \"One key to Home Depot's growth strategy: Nabbing bigger orders from home professionals https://t.co/NDufznrGIO\",\n",
       " \"Russia's Ukraine incursion could complicate the Federal Reserve's interest rate decisions https://t.co/4JvcWKxabD\",\n",
       " 'These commodity ETFs can help hedge against geopolitical tensions, market analyst says (via @ETFEdgeCNBC) https://t.co/bXSthTtIQr',\n",
       " \"Investing Club: We're buying more of our newest portfolio stock as market swings intensify https://t.co/f92D9pJozH\",\n",
       " '77% of homebuyers face unexpected repair costs in first year of ownership. How to head off surprise expenses https://t.co/q8GOpkKs6W',\n",
       " 'RT @CNBCTheExchange: Expect elevated #energy prices and stock market volatility during this period of geopolitical uncertainty says David B…',\n",
       " 'Bitcoin plummets to two-week low as Russia sends troops into Ukraine: CNBC Crypto World https://t.co/1T6aQCIFM3',\n",
       " 'WATCH: President Biden announces sweeping sanctions on Russia. https://t.co/BJ3CXRPMHo https://t.co/CljTg8Z1lL',\n",
       " 'The second most expensive ZIP code in the U.S. is not in California or New York. (via @Grow_mag) https://t.co/RKAQHXpRYs',\n",
       " 'RT @cnbcevents: What is the uncomfortable conversation (fair pay, race and gender issues, etc.) you wish you could have with your boss or c…',\n",
       " \"President Biden announces new sanctions on Russia — here's what you need to know. https://t.co/OwDxOjGpTO\",\n",
       " 'Covid infections plummet 90% from U.S. pandemic high, states lift mask mandates https://t.co/0kb5VRcNfI',\n",
       " 'The end of 3G networks could spell big problems for seniors who rely on medical alert devices https://t.co/5HhaIFZozD']"
      ]
     },
     "execution_count": 152,
     "metadata": {},
     "output_type": "execute_result"
    }
   ],
   "source": [
    "status_texts = [ tweet['text'] \n",
    "                 for tweet in tweets]\n",
    "status_texts[0:15]"
   ]
  },
  {
   "cell_type": "code",
   "execution_count": 153,
   "metadata": {},
   "outputs": [],
   "source": [
    "#----------------------------------------------\n",
    "#Transforming tweets into TF-IDF vectors in order to be clustered\n",
    "\n",
    "#Before we begin - importing libraries\n",
    "import nltk\n",
    "from nltk.corpus import stopwords\n",
    "import string\n",
    "\n",
    "stopwords = nltk.corpus.stopwords.words('english')+['rt','cnbc']\n",
    "alphanum = string.ascii_lowercase+'0123456789'+\"'\""
   ]
  },
  {
   "cell_type": "code",
   "execution_count": 154,
   "metadata": {},
   "outputs": [
    {
     "data": {
      "text/plain": [
       "200"
      ]
     },
     "execution_count": 154,
     "metadata": {},
     "output_type": "execute_result"
    }
   ],
   "source": [
    "#1ST step - Tokenizing words\n",
    "tokenized = [ [w for w in t.split() ] for t in status_texts ]\n",
    "len(tokenized)"
   ]
  },
  {
   "cell_type": "code",
   "execution_count": 155,
   "metadata": {},
   "outputs": [],
   "source": [
    "#2nd step - all lowercase, remove unwanted characters, remove stopwords\n",
    "for t in tokenized:\n",
    "    for w in range(len(t)):\n",
    "        t[w] =t[w].lower() #every letter lowercase\n",
    "        for letter in t[w]:\n",
    "            if letter not in alphanum: #remove strange symbols\n",
    "                t[w]= t[w].replace(letter,\"\")\n",
    "        if ((t[w] in stopwords) or len(t[w])<2): #delete stopwords and solitary characters\n",
    "            t[w] = \"\"\n",
    "    while \"\" in t:\n",
    "        t.remove(\"\")        "
   ]
  },
  {
   "cell_type": "code",
   "execution_count": 156,
   "metadata": {},
   "outputs": [],
   "source": [
    "#3rd step - lemmatizing and stemming\n",
    "#initialize functions\n",
    "lemmatizer = nltk.stem.WordNetLemmatizer()\n",
    "stemmer = nltk.stem.PorterStemmer()"
   ]
  },
  {
   "cell_type": "code",
   "execution_count": 157,
   "metadata": {},
   "outputs": [],
   "source": [
    "#lemmatizing text\n",
    "for t in range(len(tokenized)):\n",
    "    lemmatized = []\n",
    "    for w in tokenized[t]:\n",
    "        lemmatized.append(lemmatizer.lemmatize(w))\n",
    "    tokenized[t]=lemmatized"
   ]
  },
  {
   "cell_type": "code",
   "execution_count": 158,
   "metadata": {},
   "outputs": [],
   "source": [
    "#stemming text\n",
    "for t in range(len(tokenized)):\n",
    "    stemmed = []\n",
    "    for w in tokenized[t]:\n",
    "        stemmed.append(stemmer.stem(w))\n",
    "    tokenized[t]=stemmed"
   ]
  },
  {
   "cell_type": "code",
   "execution_count": 159,
   "metadata": {},
   "outputs": [
    {
     "data": {
      "text/plain": [
       "['harvard psychologist parent thing want rais kid flexibl resili brain via httpstcotgqditloku ',\n",
       " 'growmag way turn volum stress come market turbul httpstcohsuk2as0fk ',\n",
       " \"one key home depot' growth strategi nab bigger order home profession httpstcondufznrgio \",\n",
       " \"russia' ukrain incurs could complic feder reserve' interest rate decis httpstco4jvcwkxabd \",\n",
       " 'commod etf help hedg geopolit tension market analyst say via etfedgecnbc httpstcobxsthttiqr ']"
      ]
     },
     "execution_count": 159,
     "metadata": {},
     "output_type": "execute_result"
    }
   ],
   "source": [
    "#4th step - defining the corpus\n",
    "corpus = []\n",
    "for t in range(len(tokenized)):\n",
    "    untoken = ''\n",
    "    for w in tokenized[t]:\n",
    "        untoken = untoken+w+' '\n",
    "    corpus.append(untoken)\n",
    "corpus[:5]"
   ]
  },
  {
   "cell_type": "code",
   "execution_count": 160,
   "metadata": {},
   "outputs": [],
   "source": [
    "#5th step - Indexing it as TFIDF\n",
    "from sklearn.feature_extraction.text import TfidfVectorizer"
   ]
  },
  {
   "cell_type": "code",
   "execution_count": 296,
   "metadata": {},
   "outputs": [
    {
     "name": "stdout",
     "output_type": "stream",
     "text": [
      "Number of features (words): 347\n",
      "Sample indexed tweet: \n",
      "  (0, 329)\t0.4104889456701233\n",
      "  (0, 322)\t0.3144128956891697\n",
      "  (0, 303)\t0.4300033377901882\n",
      "  (0, 234)\t0.3945445263478367\n",
      "  (0, 212)\t0.4300033377901882\n",
      "  (0, 137)\t0.4551617648864387\n",
      "Features in sample tweet: [array(['via', 'rais', 'want', 'thing', 'parent', 'harvard'], dtype='<U18')]\n"
     ]
    }
   ],
   "source": [
    "vectorizer = TfidfVectorizer(min_df=0.01)\n",
    "X = vectorizer.fit_transform(corpus)\n",
    "print(\"Number of features (words): \"+str(len(vectorizer.get_feature_names())))\n",
    "print(\"Sample indexed tweet: \")\n",
    "print(str(vectorizer.transform([corpus[0]])))\n",
    "print(\"Features in sample tweet: \"+str(vectorizer.inverse_transform(X[0])))"
   ]
  },
  {
   "cell_type": "code",
   "execution_count": 162,
   "metadata": {},
   "outputs": [],
   "source": [
    "#6th step - Clustering\n",
    "from sklearn.cluster import KMeans\n",
    "from sklearn.metrics import silhouette_score"
   ]
  },
  {
   "cell_type": "code",
   "execution_count": 163,
   "metadata": {},
   "outputs": [
    {
     "name": "stdout",
     "output_type": "stream",
     "text": [
      "KMeans Clustering, number of clusters =  1\n",
      "KMeans Clustering, number of clusters =  2\n",
      "KMeans Clustering, number of clusters =  3\n",
      "KMeans Clustering, number of clusters =  4\n",
      "KMeans Clustering, number of clusters =  5\n",
      "KMeans Clustering, number of clusters =  6\n",
      "KMeans Clustering, number of clusters =  7\n",
      "KMeans Clustering, number of clusters =  8\n",
      "KMeans Clustering, number of clusters =  9\n",
      "KMeans Clustering, number of clusters =  10\n",
      "KMeans Clustering, number of clusters =  11\n",
      "KMeans Clustering, number of clusters =  12\n",
      "KMeans Clustering, number of clusters =  13\n",
      "KMeans Clustering, number of clusters =  14\n",
      "KMeans Clustering, number of clusters =  15\n"
     ]
    }
   ],
   "source": [
    "ks = [i for i in range(1,16)]\n",
    "inertias = []\n",
    "sil = []\n",
    "for k in ks:\n",
    "    print('KMeans Clustering, number of clusters = ', k) \n",
    "    kmeans = KMeans(k).fit(X)\n",
    "    #print('KMeans Inertia: ', kmeans.inertia_, '\\n')\n",
    "    inertias.append(kmeans.inertia_)\n",
    "    if k!=1:\n",
    "        sil.append(silhouette_score(X, kmeans.labels_))"
   ]
  },
  {
   "cell_type": "code",
   "execution_count": 165,
   "metadata": {},
   "outputs": [
    {
     "data": {
      "image/png": "[encoded data removed]",
      "text/plain": [
       "<Figure size 432x288 with 1 Axes>"
      ]
     },
     "metadata": {
      "needs_background": "light"
     },
     "output_type": "display_data"
    }
   ],
   "source": [
    "plt.plot(ks, inertias)\n",
    "plt.title('Errors Vs Number of Clusters')\n",
    "plt.xlabel('Number of clusters')\n",
    "plt.ylabel('Sum of Squared distances to center')\n",
    "plt.show()"
   ]
  },
  {
   "cell_type": "code",
   "execution_count": 166,
   "metadata": {},
   "outputs": [
    {
     "data": {
      "image/png": "[encoded data removed]",
      "text/plain": [
       "<Figure size 432x288 with 1 Axes>"
      ]
     },
     "metadata": {
      "needs_background": "light"
     },
     "output_type": "display_data"
    }
   ],
   "source": [
    "plt.plot(ks[1:], sil)\n",
    "plt.title('Silhouette Vs Number of Clusters')\n",
    "plt.xlabel('Number of clusters')\n",
    "plt.ylabel('Silhouette score')\n",
    "plt.show()"
   ]
  },
  {
   "cell_type": "code",
   "execution_count": 167,
   "metadata": {},
   "outputs": [
    {
     "name": "stdout",
     "output_type": "stream",
     "text": [
      "KMeans Clustering, number of clusters =  13\n"
     ]
    }
   ],
   "source": [
    "#Choosing the cluster number with highest silhouette value\n",
    "k = sil.index(max(sil))+2\n",
    "print('KMeans Clustering, number of clusters = ', k) \n",
    "kmeans = KMeans(k).fit(X)"
   ]
  },
  {
   "cell_type": "code",
   "execution_count": 372,
   "metadata": {},
   "outputs": [],
   "source": [
    "#Top words for each cluster"
   ]
  },
  {
   "cell_type": "code",
   "execution_count": 299,
   "metadata": {},
   "outputs": [
    {
     "data": {
      "text/plain": [
       "[array(['via', 'rais', 'want', 'thing', 'parent', 'harvard'], dtype='<U18'),\n",
       " array(['market', 'come', 'turn', 'way', 'growmag'], dtype='<U18'),\n",
       " array(['order', 'strategi', 'growth', 'depot', 'home', 'one'],\n",
       "       dtype='<U18'),\n",
       " array(['decis', 'rate', 'interest', 'feder', 'could', 'incurs', 'ukrain',\n",
       "        'russia'], dtype='<U18')]"
      ]
     },
     "execution_count": 299,
     "metadata": {},
     "output_type": "execute_result"
    }
   ],
   "source": [
    "#Recreates corpus based only on tfidf attributes (selected words)\n",
    "newcorpus = vectorizer.inverse_transform(X)\n",
    "newcorpus[0:4]"
   ]
  },
  {
   "cell_type": "code",
   "execution_count": 371,
   "metadata": {},
   "outputs": [
    {
     "name": "stdout",
     "output_type": "stream",
     "text": [
      "+---------------------+-------+\n",
      "| Top Words Cluster 0 | Count |\n",
      "+---------------------+-------+\n",
      "|         say         |    11 |\n",
      "|        stock        |     6 |\n",
      "|        presid       |     5 |\n",
      "|         big         |     4 |\n",
      "|       million       |     4 |\n",
      "|      squawkcnbc     |     4 |\n",
      "|        ukrain       |     4 |\n",
      "|        covid        |     3 |\n",
      "|        devic        |     3 |\n",
      "|         end         |     3 |\n",
      "+---------------------+-------+\n",
      "+---------------------+-------+\n",
      "| Top Words Cluster 1 | Count |\n",
      "+---------------------+-------+\n",
      "|         via         |    10 |\n",
      "|         way         |     6 |\n",
      "|      cnbcmakeit     |     5 |\n",
      "|         make        |     4 |\n",
      "|         want        |     3 |\n",
      "|        market       |     3 |\n",
      "|         year        |     3 |\n",
      "|        fight        |     3 |\n",
      "|    thenewsoncnbc    |     3 |\n",
      "|         rais        |     2 |\n",
      "+---------------------+-------+\n",
      "+---------------------+-------+\n",
      "| Top Words Cluster 2 | Count |\n",
      "+---------------------+-------+\n",
      "|     russiaukrain    |    16 |\n",
      "|       tension       |    13 |\n",
      "|        escal        |     7 |\n",
      "|         drop        |     6 |\n",
      "|         fall        |     5 |\n",
      "|        crisi        |     5 |\n",
      "|        price        |     5 |\n",
      "|         amid        |     4 |\n",
      "|        stock        |     4 |\n",
      "|         oil         |     4 |\n",
      "+---------------------+-------+\n",
      "+---------------------+-------+\n",
      "| Top Words Cluster 3 | Count |\n",
      "+---------------------+-------+\n",
      "|       sanction      |    12 |\n",
      "|        ukrain       |    11 |\n",
      "|        russia       |    11 |\n",
      "|        biden        |     9 |\n",
      "|         say         |     7 |\n",
      "|        presid       |     5 |\n",
      "|        invas        |     5 |\n",
      "|          uk         |     5 |\n",
      "|       announc       |     4 |\n",
      "|         new         |     4 |\n",
      "+---------------------+-------+\n",
      "+---------------------+-------+\n",
      "| Top Words Cluster 4 | Count |\n",
      "+---------------------+-------+\n",
      "|         home        |     6 |\n",
      "|         here        |     6 |\n",
      "|        depot        |     4 |\n",
      "|        growth       |     3 |\n",
      "|         see         |     3 |\n",
      "|        break        |     3 |\n",
      "|         say         |     3 |\n",
      "|         one         |     2 |\n",
      "|         tax         |     2 |\n",
      "|          go         |     2 |\n",
      "+---------------------+-------+\n",
      "+---------------------+-------+\n",
      "| Top Words Cluster 5 | Count |\n",
      "+---------------------+-------+\n",
      "|       pipelin       |     6 |\n",
      "|         halt        |     6 |\n",
      "|        stream       |     5 |\n",
      "|         nord        |     5 |\n",
      "|       germani       |     5 |\n",
      "|        certif       |     3 |\n",
      "|        approv       |     3 |\n",
      "|          ga         |     3 |\n",
      "|        action       |     2 |\n",
      "|        russia       |     2 |\n",
      "+---------------------+-------+\n",
      "+---------------------+-------+\n",
      "| Top Words Cluster 6 | Count |\n",
      "+---------------------+-------+\n",
      "|         year        |     6 |\n",
      "|         say         |     6 |\n",
      "|        first        |     5 |\n",
      "|    asiasquawkbox    |     5 |\n",
      "|         ceo         |     4 |\n",
      "|     uncertainti     |     3 |\n",
      "|       compani       |     3 |\n",
      "|         busi        |     3 |\n",
      "|        stock        |     2 |\n",
      "|        market       |     2 |\n",
      "+---------------------+-------+\n",
      "+---------------------+-------+\n",
      "| Top Words Cluster 7 | Count |\n",
      "+---------------------+-------+\n",
      "|         issu        |     3 |\n",
      "|        stock        |     3 |\n",
      "|         eas         |     3 |\n",
      "|         hope        |     3 |\n",
      "|         focu        |     3 |\n",
      "|         list        |     2 |\n",
      "|        polari       |     2 |\n",
      "|         add         |     2 |\n",
      "|         citi        |     2 |\n",
      "|         surg        |     2 |\n",
      "+---------------------+-------+\n",
      "+---------------------+-------+\n",
      "| Top Words Cluster 8 | Count |\n",
      "+---------------------+-------+\n",
      "|        ukrain       |    14 |\n",
      "|        putin        |    11 |\n",
      "|       eastern       |     9 |\n",
      "|        troop        |     7 |\n",
      "|        russia       |     6 |\n",
      "|        world        |     5 |\n",
      "|         send        |     5 |\n",
      "|         move        |     5 |\n",
      "|        order        |     5 |\n",
      "|        listen       |     4 |\n",
      "+---------------------+-------+\n",
      "+---------------------+-------+\n",
      "| Top Words Cluster 9 | Count |\n",
      "+---------------------+-------+\n",
      "|        invest       |     7 |\n",
      "|         say         |     6 |\n",
      "|         club        |     4 |\n",
      "|       compani       |     4 |\n",
      "|         buy         |     3 |\n",
      "|       tuesday       |     3 |\n",
      "|        share        |     3 |\n",
      "|        cramer       |     3 |\n",
      "|        stock        |     2 |\n",
      "|        decis        |     2 |\n",
      "+---------------------+-------+\n",
      "+----------------------+-------+\n",
      "| Top Words Cluster 10 | Count |\n",
      "+----------------------+-------+\n",
      "|         new          |     7 |\n",
      "|         york         |     2 |\n",
      "|       conflict       |     2 |\n",
      "|       virtual        |     2 |\n",
      "|       investor       |     2 |\n",
      "|        second        |     1 |\n",
      "|        expens        |     1 |\n",
      "|       growmag        |     1 |\n",
      "|         via          |     1 |\n",
      "|        latest        |     1 |\n",
      "+----------------------+-------+\n",
      "+----------------------+-------+\n",
      "| Top Words Cluster 11 | Count |\n",
      "+----------------------+-------+\n",
      "|        stock         |     4 |\n",
      "|       analyst        |     3 |\n",
      "|        market        |     3 |\n",
      "|       biggest        |     3 |\n",
      "|       tuesday        |     3 |\n",
      "|         day          |     3 |\n",
      "|       walmart        |     3 |\n",
      "|         call         |     3 |\n",
      "|         move         |     2 |\n",
      "|         make         |     2 |\n",
      "+----------------------+-------+\n",
      "+----------------------+-------+\n",
      "| Top Words Cluster 12 | Count |\n",
      "+----------------------+-------+\n",
      "|    halftimereport    |     3 |\n",
      "|       committe       |     2 |\n",
      "|        invest        |     2 |\n",
      "|         best         |     1 |\n",
      "|        today         |     1 |\n",
      "|       podcast        |     1 |\n",
      "|        follow        |     1 |\n",
      "+----------------------+-------+\n"
     ]
    }
   ],
   "source": [
    "# Displays top 10 words from each cluster\n",
    "for i in range(k):\n",
    "    pt = PrettyTable(field_names=['Top Words Cluster '+str(i), 'Count'])\n",
    "    words = [ w for t in range(len(newcorpus)) if kmeans.labels_[t]==i  for w in newcorpus[t] ]\n",
    "    c = Counter(words)\n",
    "    [ pt.add_row(kv) for kv in c.most_common()[:10] ]\n",
    "    pt.align['Word'], pt.align['Count'] = 'l', 'r' # Set column alignment\n",
    "    print(pt)"
   ]
  },
  {
   "cell_type": "code",
   "execution_count": 278,
   "metadata": {},
   "outputs": [
    {
     "data": {
      "text/plain": [
       "array([30, 34, 22, 19, 15,  6, 18,  6, 15, 14,  8, 10,  3], dtype=int64)"
      ]
     },
     "execution_count": 278,
     "metadata": {},
     "output_type": "execute_result"
    }
   ],
   "source": [
    "#Number of tweets allocated in each cluster\n",
    "labels = pd.DataFrame(kmeans.labels_).value_counts()\n",
    "labels.sort_index().values"
   ]
  },
  {
   "cell_type": "code",
   "execution_count": 279,
   "metadata": {},
   "outputs": [
    {
     "data": {
      "image/png": "[encoded data removed]",
      "text/plain": [
       "<Figure size 432x288 with 1 Axes>"
      ]
     },
     "metadata": {
      "needs_background": "light"
     },
     "output_type": "display_data"
    }
   ],
   "source": [
    "fig, ax = plt.subplots()\n",
    "ax.bar([str(n)  for n in range(k)],labels.sort_index().values)\n",
    "ax.set_xlabel('Cluster')\n",
    "ax.set_ylabel('Number of tweets')\n",
    "\n",
    "plt.show()"
   ]
  },
  {
   "cell_type": "code",
   "execution_count": null,
   "metadata": {},
   "outputs": [],
   "source": [
    "#What clusters are most popular in terms of retweets"
   ]
  },
  {
   "cell_type": "code",
   "execution_count": 182,
   "metadata": {},
   "outputs": [
    {
     "data": {
      "text/plain": [
       "200"
      ]
     },
     "execution_count": 182,
     "metadata": {},
     "output_type": "execute_result"
    }
   ],
   "source": [
    "retweets = [ tweet['retweet_count'] for tweet in tweets ]\n",
    "len(retweets)"
   ]
  },
  {
   "cell_type": "code",
   "execution_count": 218,
   "metadata": {},
   "outputs": [
    {
     "name": "stdout",
     "output_type": "stream",
     "text": [
      "Cluster  0 : Average retweets per tweet is  14.9\n",
      "Cluster  1 : Average retweets per tweet is  12.4\n",
      "Cluster  2 : Average retweets per tweet is  27.2\n",
      "Cluster  3 : Average retweets per tweet is  40.7\n",
      "Cluster  4 : Average retweets per tweet is  5.0\n",
      "Cluster  5 : Average retweets per tweet is  15.8\n",
      "Cluster  6 : Average retweets per tweet is  9.5\n",
      "Cluster  7 : Average retweets per tweet is  4.7\n",
      "Cluster  8 : Average retweets per tweet is  16.5\n",
      "Cluster  9 : Average retweets per tweet is  7.3\n",
      "Cluster  10 : Average retweets per tweet is  7.4\n",
      "Cluster  11 : Average retweets per tweet is  5.0\n",
      "Cluster  12 : Average retweets per tweet is  4.0\n"
     ]
    }
   ],
   "source": [
    "popularity= []\n",
    "for i in range(k):\n",
    "    r = [ retweets[w] for w in range(len(retweets)) if kmeans.labels_[w]==i]\n",
    "    avgrt = round(sum(r)/len(r),1)\n",
    "    print(\"Cluster \",i,\": Average retweets per tweet is \",avgrt)\n",
    "    popularity.append(avgrt)"
   ]
  },
  {
   "cell_type": "code",
   "execution_count": 230,
   "metadata": {},
   "outputs": [
    {
     "data": {
      "image/png": "[encoded data removed]",
      "text/plain": [
       "<Figure size 432x288 with 1 Axes>"
      ]
     },
     "metadata": {
      "needs_background": "light"
     },
     "output_type": "display_data"
    }
   ],
   "source": [
    "fig, ax = plt.subplots()\n",
    "ax.bar([str(n)  for n in range(k)],height=popularity)\n",
    "ax.set_xlabel('Cluster')\n",
    "ax.set_ylabel('Average retweets')\n",
    "\n",
    "plt.show()"
   ]
  },
  {
   "cell_type": "code",
   "execution_count": null,
   "metadata": {},
   "outputs": [],
   "source": []
  }
 ],
 "metadata": {
  "anaconda-cloud": {},
  "kernel_info": {
   "name": "python3"
  },
  "kernelspec": {
   "display_name": "Python 3 (ipykernel)",
   "language": "python",
   "name": "python3"
  },
  "language_info": {
   "codemirror_mode": {
    "name": "ipython",
    "version": 3
   },
   "file_extension": ".py",
   "mimetype": "text/x-python",
   "name": "python",
   "nbconvert_exporter": "python",
   "pygments_lexer": "ipython3",
   "version": "3.9.7"
  },
  "nteract": {
   "version": "0.2.0"
  }
 },
 "nbformat": 4,
 "nbformat_minor": 4
}
